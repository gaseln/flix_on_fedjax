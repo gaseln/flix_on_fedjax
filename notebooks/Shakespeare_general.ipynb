{
 "cells": [
  {
   "cell_type": "markdown",
   "id": "73ebda66-e03b-4dc7-b2e1-6825035646ab",
   "metadata": {},
   "source": [
    "# Importing packages"
   ]
  },
  {
   "cell_type": "code",
   "execution_count": 1,
   "id": "6d64144a-6b1a-4fbc-81ee-d3691da6e009",
   "metadata": {},
   "outputs": [],
   "source": [
    "import fedjax\n",
    "import jax\n",
    "import jax.numpy as jnp\n",
    "import PLM_computation\n",
    "import FedMix_computation_general\n",
    "from grid_search_general import FedMixGrid, grid_search\n",
    "from Shakespeare_custom import shakespeare_load_gd_data\n",
    "import itertools"
   ]
  },
  {
   "cell_type": "code",
   "execution_count": 2,
   "id": "4d060f65-419e-432b-be50-bf13cd427dce",
   "metadata": {},
   "outputs": [],
   "source": [
    "from matplotlib import pyplot as plt"
   ]
  },
  {
   "cell_type": "code",
   "execution_count": 3,
   "id": "ed02599f-ed69-45a9-8ca0-2dd9238a983f",
   "metadata": {},
   "outputs": [],
   "source": [
    "import pickle"
   ]
  },
  {
   "cell_type": "markdown",
   "id": "9c43014d-2b8f-4861-b754-b5b9ccb7ae32",
   "metadata": {},
   "source": [
    "# Model setup"
   ]
  },
  {
   "cell_type": "code",
   "execution_count": 4,
   "id": "5397c52a-5cbb-43ac-9074-fc27e13a52ae",
   "metadata": {},
   "outputs": [],
   "source": [
    "model = fedjax.models.shakespeare.create_lstm_model()"
   ]
  },
  {
   "cell_type": "code",
   "execution_count": 5,
   "id": "55a859ca-4d24-4131-a446-42700f8ba772",
   "metadata": {},
   "outputs": [],
   "source": [
    "def loss(params, batch, rng):\n",
    "    # `rng` used with `apply_for_train` to apply dropout during training.\n",
    "    preds = model.apply_for_train(params, batch, rng)\n",
    "    # Per example loss of shape [batch_size].\n",
    "    example_loss = model.train_loss(batch, preds)\n",
    "    return jnp.mean(example_loss)"
   ]
  },
  {
   "cell_type": "code",
   "execution_count": 6,
   "id": "aac44efb-fbaf-46cf-a1f1-7f63d07f209c",
   "metadata": {},
   "outputs": [],
   "source": [
    "def loss_for_eval(params, batch):\n",
    "    preds = model.apply_for_eval(params, batch)\n",
    "    example_loss = model.train_loss(batch, preds)\n",
    "    return jnp.mean(example_loss)"
   ]
  },
  {
   "cell_type": "code",
   "execution_count": 7,
   "id": "3ff682e6-b1d0-41d2-b311-f6c2d1383a4e",
   "metadata": {},
   "outputs": [],
   "source": [
    "grad_fn = jax.jit(jax.grad(loss))"
   ]
  },
  {
   "cell_type": "code",
   "execution_count": 8,
   "id": "f81591b6-9cc1-44b2-b279-c0346b6fa3e9",
   "metadata": {},
   "outputs": [],
   "source": [
    "grad_fn_eval = jax.jit(jax.grad(loss_for_eval))"
   ]
  },
  {
   "cell_type": "markdown",
   "id": "6229f99d-e317-4449-97c4-ecbfc1ceb745",
   "metadata": {
    "tags": []
   },
   "source": [
    "# Grid search setup"
   ]
  },
  {
   "cell_type": "markdown",
   "id": "5d6053ec-12df-41ba-bd98-781e5a2f2ff6",
   "metadata": {},
   "source": [
    "## Constants"
   ]
  },
  {
   "cell_type": "code",
   "execution_count": 9,
   "id": "8e7bccd2-c43f-46a4-8420-237c98bc0b69",
   "metadata": {},
   "outputs": [],
   "source": [
    "CACHE_DIR = '../data/'\n",
    "NUM_CLIENTS_GRID_SEARCH = 715\n",
    "TRAIN_VALIDATION_SPLIT = 0.8\n",
    "NUM_CLIENTS_PER_PLM_ROUND = 5\n",
    "NUM_CLIENTS_PER_FEDMIX_ROUND = 10\n",
    "FEDMIX_ALGORITHM = 'sgd'\n",
    "CLIENT_ALGORITHM = 'sgd'\n",
    "FEDMIX_NUM_ROUNDS = 500\n",
    "PLM_NUM_EPOCHS = 25"
   ]
  },
  {
   "cell_type": "markdown",
   "id": "95e4db1a-3455-481d-9cf2-5653b38e14ea",
   "metadata": {},
   "source": [
    "## Datasets and parameters"
   ]
  },
  {
   "cell_type": "code",
   "execution_count": 10,
   "id": "6bc99230-383c-4559-8931-6229ed57f207",
   "metadata": {},
   "outputs": [
    {
     "name": "stderr",
     "output_type": "stream",
     "text": [
      "Reusing cached file '../data/shakespeare_train.sqlite'\n"
     ]
    }
   ],
   "source": [
    "train_fd, validation_fd = shakespeare_load_gd_data(\n",
    "    train_val_split=TRAIN_VALIDATION_SPLIT,\n",
    "    cache_dir=CACHE_DIR\n",
    ")"
   ]
  },
  {
   "cell_type": "code",
   "execution_count": 11,
   "id": "f2cbd7a2-8c6d-4993-9997-a1a90760f539",
   "metadata": {},
   "outputs": [],
   "source": [
    "client_ids = set([cid for cid in itertools.islice(\n",
    "    train_fd.client_ids(), NUM_CLIENTS_GRID_SEARCH)])"
   ]
  },
  {
   "cell_type": "code",
   "execution_count": 12,
   "id": "216fac10-c48f-43dd-b3f2-f5aa9be027a2",
   "metadata": {},
   "outputs": [],
   "source": [
    "train_fd = fedjax.SubsetFederatedData(train_fd, client_ids)\n",
    "validation_fd = fedjax.SubsetFederatedData(validation_fd, client_ids)"
   ]
  },
  {
   "cell_type": "code",
   "execution_count": 13,
   "id": "b2b95a1b-b209-4bd6-8d2c-1beda3eb4018",
   "metadata": {},
   "outputs": [],
   "source": [
    "plm_init_params = model.init(jax.random.PRNGKey(0))"
   ]
  },
  {
   "cell_type": "code",
   "execution_count": 14,
   "id": "53211ed4-1d0f-472e-a364-9af6a9bba209",
   "metadata": {},
   "outputs": [],
   "source": [
    "plm_comp_params = PLM_computation.PLMComputationProcessParams(\n",
    "    plm_init_params, NUM_CLIENTS_PER_PLM_ROUND)"
   ]
  },
  {
   "cell_type": "code",
   "execution_count": 15,
   "id": "05442e4e-2e3e-4854-94ed-099dc62e8e04",
   "metadata": {},
   "outputs": [],
   "source": [
    "fedmix_init_params = model.init(jax.random.PRNGKey(20))"
   ]
  },
  {
   "cell_type": "code",
   "execution_count": 16,
   "id": "a9917d76-2303-46d9-80fb-2bd7b26c7664",
   "metadata": {},
   "outputs": [],
   "source": [
    "fedmix_comp_params = FedMix_computation_general.FedMixComputationParams(\n",
    "    FEDMIX_ALGORITHM, CLIENT_ALGORITHM, fedmix_init_params, FEDMIX_NUM_ROUNDS)"
   ]
  },
  {
   "cell_type": "code",
   "execution_count": 17,
   "id": "0a40d24d-4f95-41c9-a29c-244e91f89eef",
   "metadata": {},
   "outputs": [],
   "source": [
    "alpha = 0.7"
   ]
  },
  {
   "cell_type": "markdown",
   "id": "03115ef2-f3bb-46b5-8766-ac2504efa91c",
   "metadata": {},
   "source": [
    "## Grid"
   ]
  },
  {
   "cell_type": "code",
   "execution_count": 18,
   "id": "18b974db-4487-4bad-b748-e359e2c0c7d5",
   "metadata": {},
   "outputs": [],
   "source": [
    "# fedmix_lrs = 10**jnp.arange(-5., 0.5, 1)\n",
    "# fedmix_batch_sizes = [20, 50, 100, 200]\n",
    "# plm_lrs = 10**jnp.arange(-5., 0.5, 1)\n",
    "# plm_batch_sizes = [10, 20, 50, 100]\n",
    "# client_lrs = [0.01]"
   ]
  },
  {
   "cell_type": "code",
   "execution_count": 19,
   "id": "e9dad3d9-4acf-4a32-ad60-d1d3f74b2a67",
   "metadata": {},
   "outputs": [],
   "source": [
    "# fedmix_lrs = 10**jnp.arange(-5., 0.5, 1)\n",
    "# fedmix_batch_sizes = [20, 50, 100, 200]\n",
    "# plm_lrs = 10**jnp.arange(-5., -1.5, 1)\n",
    "# plm_batch_sizes = [10, 20, 50, 100]\n",
    "# client_lrs = 10**jnp.arange(-5., 0.5, 1)"
   ]
  },
  {
   "cell_type": "code",
   "execution_count": 20,
   "id": "5ed53950-c97a-432f-9aa0-0fa958bfbf9d",
   "metadata": {
    "tags": []
   },
   "outputs": [],
   "source": [
    "fedmix_lrs = 10 ** jnp.arange(-1, 1.1, 0.5)\n",
    "fedmix_batch_sizes = [1, 4, 10, 20]\n",
    "plm_lrs = 10 ** jnp.arange(-1, 1.1, 0.5)\n",
    "plm_batch_sizes = [1, 4, 10, 20]\n",
    "client_lrs = 10 ** jnp.arange(-1, 1.1, 0.5)"
   ]
  },
  {
   "cell_type": "code",
   "execution_count": 21,
   "id": "00a21be4-d71d-4fb3-8e9f-6f3e6e70a228",
   "metadata": {},
   "outputs": [],
   "source": [
    "grid = FedMixGrid(fedmix_lrs,\n",
    "                  plm_lrs, client_lrs,\n",
    "                  fedmix_batch_sizes,\n",
    "                  plm_batch_sizes\n",
    "                 )"
   ]
  },
  {
   "cell_type": "markdown",
   "id": "591d3ebe-250c-4a66-8e5d-7c0b300456fa",
   "metadata": {},
   "source": [
    "# Grid search"
   ]
  },
  {
   "cell_type": "code",
   "execution_count": 22,
   "id": "3606ceec-199a-4814-9a99-ccb0e7193234",
   "metadata": {},
   "outputs": [],
   "source": [
    "SAVE_FILE = '../results/fedavg_fedmix_Shakespeare_{}_gd.npy'.format(\n",
    "    int(10 * alpha))"
   ]
  },
  {
   "cell_type": "code",
   "execution_count": 23,
   "id": "69f9a6fc-3a26-4e1a-9bba-01838c3af693",
   "metadata": {},
   "outputs": [
    {
     "data": {
      "text/plain": [
       "'../results/fedavg_fedmix_Shakespeare_7_gd.npy'"
      ]
     },
     "execution_count": 23,
     "metadata": {},
     "output_type": "execute_result"
    }
   ],
   "source": [
    "SAVE_FILE"
   ]
  },
  {
   "cell_type": "code",
   "execution_count": null,
   "id": "377b4f76-73e6-47d9-82ee-90474a7a953c",
   "metadata": {},
   "outputs": [
    {
     "name": "stdout",
     "output_type": "stream",
     "text": [
      "PLM computation: num_epochs = 25, lr = 0.10000000149011612, b_size = 1\n",
      "Round 13 / 143\r"
     ]
    }
   ],
   "source": [
    "table = grid_search(\n",
    "    train_fd, validation_fd, grad_fn, grad_fn_eval, model, alpha,\n",
    "    plm_comp_params, fedmix_comp_params, grid, PLM_NUM_EPOCHS,\n",
    "    NUM_CLIENTS_PER_FEDMIX_ROUND, SAVE_FILE, grid_metrics='accuracy_in_vocab'\n",
    ")"
   ]
  },
  {
   "cell_type": "code",
   "execution_count": null,
   "id": "d49f4562-5a08-4b5e-85e7-3ffa063096a6",
   "metadata": {},
   "outputs": [],
   "source": [
    "table"
   ]
  },
  {
   "cell_type": "code",
   "execution_count": null,
   "id": "36a35d7b-945f-4a1f-9c4f-c67eee434fbd",
   "metadata": {},
   "outputs": [],
   "source": [
    "table = jnp.load(SAVE_FILE)"
   ]
  },
  {
   "cell_type": "code",
   "execution_count": null,
   "id": "ff116b19-bc48-4e17-aafc-bfdb380294f4",
   "metadata": {},
   "outputs": [],
   "source": [
    "best_ind = jnp.unravel_index(jnp.argmax(table), table.shape)"
   ]
  },
  {
   "cell_type": "code",
   "execution_count": null,
   "id": "3fcc0d07-7b98-44f7-9276-f92a47bb2fe1",
   "metadata": {},
   "outputs": [],
   "source": [
    "table[best_ind]"
   ]
  },
  {
   "cell_type": "code",
   "execution_count": null,
   "id": "35763c46-2c7d-4e0e-b307-875144a5840a",
   "metadata": {},
   "outputs": [],
   "source": [
    "plm_batch_size = plm_batch_sizes[best_ind[0]]\n",
    "plm_lr = plm_lrs[best_ind[1]]\n",
    "fedmix_batch_size = fedmix_batch_sizes[best_ind[2]]\n",
    "fedmix_lr = fedmix_lrs[best_ind[3]]\n",
    "client_lr = client_lrs[best_ind[4]]"
   ]
  },
  {
   "cell_type": "markdown",
   "id": "85863f69-94c9-4cf3-ab5f-2aec72bf8972",
   "metadata": {},
   "source": [
    "# FedMix"
   ]
  },
  {
   "cell_type": "code",
   "execution_count": null,
   "id": "393f7d28-7c50-4de8-9d20-43e0ee20d160",
   "metadata": {},
   "outputs": [],
   "source": [
    "num_rounds = 3000"
   ]
  },
  {
   "cell_type": "code",
   "execution_count": null,
   "id": "9aa0cb50-c3f7-48a5-8850-055d9197c191",
   "metadata": {},
   "outputs": [],
   "source": [
    "train_fd, test_fd = fedjax.datasets.shakespeare.load_data(cache_dir='../data/')"
   ]
  },
  {
   "cell_type": "code",
   "execution_count": null,
   "id": "09de9aea-2db0-42cd-ac1e-a93d469e0584",
   "metadata": {},
   "outputs": [],
   "source": [
    "plm_comp_hparams = PLM_computation.PLMComputationHParams(PLM_NUM_EPOCHS,\n",
    "                                                         plm_lr,\n",
    "                                                         plm_batch_size)"
   ]
  },
  {
   "cell_type": "code",
   "execution_count": null,
   "id": "5c499d22-e736-4b7b-9e79-3496e91981c0",
   "metadata": {},
   "outputs": [],
   "source": [
    "PLM_dict = PLM_computation.plm_computation(train_fd,\n",
    "                                           grad_fn,\n",
    "                                           plm_comp_hparams,\n",
    "                                           plm_comp_params)"
   ]
  },
  {
   "cell_type": "code",
   "execution_count": null,
   "id": "43e99016-2a60-4595-8d10-7876b65da3c5",
   "metadata": {},
   "outputs": [],
   "source": [
    "save_file = '../results/PLM_EMNIST_{}_{}.pickle'.format(best_ind[0], best_ind[1])"
   ]
  },
  {
   "cell_type": "code",
   "execution_count": null,
   "id": "1437a090-d320-4833-88f8-b6ca43f5f711",
   "metadata": {},
   "outputs": [],
   "source": [
    "save_file"
   ]
  },
  {
   "cell_type": "code",
   "execution_count": null,
   "id": "0dff471d-9e1a-4675-afb0-401a9f338df1",
   "metadata": {},
   "outputs": [],
   "source": [
    "with open(save_file, 'wb') as file:\n",
    "    pickle.dump(PLM_dict, file)"
   ]
  },
  {
   "cell_type": "code",
   "execution_count": null,
   "id": "fb423ae7-cdbb-4d5e-adf9-ff95b87e9d81",
   "metadata": {},
   "outputs": [],
   "source": [
    "with open(save_file, 'rb') as file:\n",
    "    PLM_dict = pickle.load(file)"
   ]
  },
  {
   "cell_type": "code",
   "execution_count": null,
   "id": "59571370-f8fe-471b-ac69-929f88b74942",
   "metadata": {},
   "outputs": [],
   "source": [
    "alpha"
   ]
  },
  {
   "cell_type": "code",
   "execution_count": null,
   "id": "66e2d079-fd63-4f8c-b6fc-a415ee164efe",
   "metadata": {},
   "outputs": [],
   "source": [
    "alpha_dict = {}\n",
    "for cid in train_fd.client_ids():\n",
    "    alpha_dict[cid] = alpha"
   ]
  },
  {
   "cell_type": "code",
   "execution_count": null,
   "id": "f66b84e7-eea0-4a7c-83a9-c478453ce29e",
   "metadata": {},
   "outputs": [],
   "source": [
    "len(alpha_dict)"
   ]
  },
  {
   "cell_type": "code",
   "execution_count": null,
   "id": "74f2b6ae-f9f0-4bff-aa82-cc92d74fd3c5",
   "metadata": {},
   "outputs": [],
   "source": [
    "fedmix_hparams = FedMix_computation_general.FedMixHParams(\n",
    "    fedmix_lr, client_lr, NUM_CLIENTS_PER_FEDMIX_ROUND, fedmix_batch_size)"
   ]
  },
  {
   "cell_type": "code",
   "execution_count": null,
   "id": "99fadcae-004c-42f0-b49a-1a4eeee915a4",
   "metadata": {},
   "outputs": [],
   "source": [
    "fedmix_batch_size"
   ]
  },
  {
   "cell_type": "code",
   "execution_count": null,
   "id": "b2852d1b-f1e5-4d07-b20f-30a25e81221b",
   "metadata": {},
   "outputs": [],
   "source": [
    "fedmix_lr"
   ]
  },
  {
   "cell_type": "code",
   "execution_count": null,
   "id": "65534f15-aad5-4120-9017-a7e63ec94c1b",
   "metadata": {},
   "outputs": [],
   "source": [
    "client_lr"
   ]
  },
  {
   "cell_type": "code",
   "execution_count": null,
   "id": "dad9e963-24f3-476a-8c50-66e37cc66bdb",
   "metadata": {},
   "outputs": [],
   "source": [
    "fedmix_comp_params = FedMix_computation_general.FedMixComputationParams(\n",
    "    FEDMIX_ALGORITHM, CLIENT_ALGORITHM, fedmix_init_params, num_rounds)"
   ]
  },
  {
   "cell_type": "code",
   "execution_count": null,
   "id": "2e90d6e6-b809-462a-9ed3-fc83bb7d72e8",
   "metadata": {},
   "outputs": [],
   "source": [
    "_, stats = FedMix_computation_general.fedmix_computation_with_statistics(\n",
    "    train_fd, test_fd, grad_fn, grad_fn_eval, model, PLM_dict, alpha_dict,\n",
    "    fedmix_hparams, fedmix_comp_params, 100)"
   ]
  },
  {
   "cell_type": "code",
   "execution_count": null,
   "id": "e5d277ee-1157-45e3-b474-bc1d250b8fc1",
   "metadata": {},
   "outputs": [],
   "source": [
    "save_file = '../results/EMNIST_FLIX_fedavg_{}.pickle'.format(int(10 * alpha))"
   ]
  },
  {
   "cell_type": "code",
   "execution_count": null,
   "id": "eec7fc8d-b1cd-462f-8096-e6075447dd85",
   "metadata": {},
   "outputs": [],
   "source": [
    "save_file"
   ]
  },
  {
   "cell_type": "code",
   "execution_count": null,
   "id": "6b0798ce-563d-4646-8838-b778125e37e9",
   "metadata": {},
   "outputs": [],
   "source": [
    "with open(save_file, 'wb') as file:\n",
    "    pickle.dump(stats, file)"
   ]
  },
  {
   "cell_type": "code",
   "execution_count": null,
   "id": "eab381b3-81fa-436f-bd7a-f9bba38f6f92",
   "metadata": {},
   "outputs": [],
   "source": [
    "stats[-1]"
   ]
  },
  {
   "cell_type": "code",
   "execution_count": null,
   "id": "e685cdaf-af91-40f1-b43f-dc223b02ec23",
   "metadata": {},
   "outputs": [],
   "source": [
    "with open(save_file, 'rb') as file:\n",
    "    stats = pickle.load(file)"
   ]
  },
  {
   "cell_type": "markdown",
   "id": "7013e156-65e0-45ee-b1be-492e5fb82340",
   "metadata": {},
   "source": [
    "# FedAvg"
   ]
  },
  {
   "cell_type": "code",
   "execution_count": null,
   "id": "632dd3cd-c0db-46df-b6aa-621873122244",
   "metadata": {},
   "outputs": [],
   "source": [
    "client_optimizer = fedjax.optimizers.sgd(learning_rate=1)\n",
    "server_optimizer = fedjax.optimizers.sgd(learning_rate=1)\n",
    "# Hyperparameters for client local traing dataset preparation.\n",
    "client_batch_hparams = fedjax.ShuffleRepeatBatchHParams(batch_size=4)\n",
    "algorithm = fedjax.algorithms.fed_avg.federated_averaging(grad_fn, \n",
    "                                                          client_optimizer,\n",
    "                                                          server_optimizer,\n",
    "                                                          client_batch_hparams)\n",
    "# Initialize model parameters and algorithm server state.\n",
    "init_params = model.init(jax.random.PRNGKey(17))\n",
    "server_state = algorithm.init(init_params)"
   ]
  },
  {
   "cell_type": "code",
   "execution_count": null,
   "id": "f9faba06-ae53-472d-868a-b913a140988a",
   "metadata": {},
   "outputs": [],
   "source": [
    "train_client_sampler = fedjax.client_samplers.UniformGetClientSampler(fd=train_fd, num_clients=10, seed=0)"
   ]
  },
  {
   "cell_type": "code",
   "execution_count": null,
   "id": "d90f5f2b-6046-4632-a862-b2514ae86b1e",
   "metadata": {},
   "outputs": [],
   "source": [
    "fedavg_test_acc_progress = []"
   ]
  },
  {
   "cell_type": "code",
   "execution_count": null,
   "id": "d6d5cca9-1f6f-43c5-bc39-98831b797057",
   "metadata": {},
   "outputs": [],
   "source": [
    "max_rounds = 1200"
   ]
  },
  {
   "cell_type": "code",
   "execution_count": null,
   "id": "9b62c590-8143-477e-88b5-1e28058d7d73",
   "metadata": {},
   "outputs": [],
   "source": [
    "fedjax.set_for_each_client_backend('pmap')"
   ]
  },
  {
   "cell_type": "code",
   "execution_count": null,
   "id": "dc817de2-6154-4646-9245-40adea187641",
   "metadata": {},
   "outputs": [],
   "source": [
    "for round_num in range(1, max_rounds + 1):\n",
    "    # Sample 10 clients per round without replacement for training.\n",
    "    clients = train_client_sampler.sample()\n",
    "    # Run one round of training on sampled clients.\n",
    "    server_state, client_diagnostics = algorithm.apply(server_state, clients)\n",
    "    print(f'[round {round_num}]', end='\\r')\n",
    "    # Optionally print client diagnostics if curious about each client's model\n",
    "    # update's l2 norm.\n",
    "    # print(f'[round {round_num}] client_diagnostics={client_diagnostics}')\n",
    "\n",
    "    if round_num % 100 == 0:\n",
    "        test_eval_datasets = [cds for _, cds in test_fd.clients()]\n",
    "        test_eval_batches = fedjax.padded_batch_client_datasets(test_eval_datasets, batch_size=256)\n",
    "        test_metrics = fedjax.evaluate_model(model, server_state.params, test_eval_batches)\n",
    "        fedavg_test_acc_progress.append(test_metrics['accuracy_in_vocab'])\n",
    "        print('Test accuracy = {}'.format(test_metrics['accuracy_in_vocab']))"
   ]
  },
  {
   "cell_type": "code",
   "execution_count": null,
   "id": "e68ca07a-2ad3-45e2-8172-b33f3da32f5f",
   "metadata": {},
   "outputs": [],
   "source": [
    "1 + 1"
   ]
  },
  {
   "cell_type": "code",
   "execution_count": null,
   "id": "910cd486-5668-4b8e-98df-37181fdef80a",
   "metadata": {},
   "outputs": [],
   "source": [
    "save_file = '../results/test_acc_fedavg_shakespeare.pickle'"
   ]
  },
  {
   "cell_type": "code",
   "execution_count": null,
   "id": "e6d5e0af-d423-4829-a11c-aa4c980b5a21",
   "metadata": {},
   "outputs": [],
   "source": [
    "with open(save_file, 'wb') as handle:\n",
    "    pickle.dump(fedavg_test_acc_progress, handle)"
   ]
  },
  {
   "cell_type": "code",
   "execution_count": null,
   "id": "9a48e4a7-779e-48f6-94c7-1da232be7433",
   "metadata": {},
   "outputs": [],
   "source": [
    "with open(save_file, 'rb') as handle:\n",
    "    fedavg_test_acc_progress = pickle.load(handle)"
   ]
  },
  {
   "cell_type": "code",
   "execution_count": null,
   "id": "7d698ae9-3816-4d96-82b1-5216092448ec",
   "metadata": {},
   "outputs": [],
   "source": [
    "fedavg_test_acc_progress[-1]"
   ]
  },
  {
   "cell_type": "markdown",
   "id": "474bc9f5-752e-42a5-b741-ae6e0ef82404",
   "metadata": {},
   "source": [
    "# Plots"
   ]
  },
  {
   "cell_type": "code",
   "execution_count": null,
   "id": "ac737e73-ae6f-4315-a088-d80622ae1a08",
   "metadata": {},
   "outputs": [],
   "source": [
    "# accs = [stat['accuracy'] for stat in stats]"
   ]
  },
  {
   "cell_type": "code",
   "execution_count": null,
   "id": "cd756af9-896d-41ab-81d8-560e080052a4",
   "metadata": {},
   "outputs": [],
   "source": [
    "round_nums = jnp.linspace(100, max_rounds, num=12, endpoint=True)\n",
    "# plt.plot(round_nums, accs, label='FedMix, alpha={}'.format(alpha))\n",
    "plt.plot(round_nums, fedavg_test_acc_progress, label='FedAvg')\n",
    "plt.xlim(left=0)\n",
    "plt.ylabel('accuracy')\n",
    "plt.xlabel('rounds')\n",
    "plt.grid()\n",
    "plt.title('EMNIST')\n",
    "plt.legend()\n",
    "plt.tight_layout()\n",
    "# plt.savefig('../results/plots/EMNIST_{}.pdf'.format(int(10 * alpha)))"
   ]
  },
  {
   "cell_type": "code",
   "execution_count": null,
   "id": "716c17ba-9b77-44d2-be8f-e31c7bb8a2cd",
   "metadata": {},
   "outputs": [],
   "source": []
  }
 ],
 "metadata": {
  "kernelspec": {
   "display_name": "Python 3 (ipykernel)",
   "language": "python",
   "name": "python3"
  },
  "language_info": {
   "codemirror_mode": {
    "name": "ipython",
    "version": 3
   },
   "file_extension": ".py",
   "mimetype": "text/x-python",
   "name": "python",
   "nbconvert_exporter": "python",
   "pygments_lexer": "ipython3",
   "version": "3.8.12"
  }
 },
 "nbformat": 4,
 "nbformat_minor": 5
}
