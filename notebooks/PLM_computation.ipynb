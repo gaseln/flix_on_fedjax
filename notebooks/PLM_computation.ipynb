{
 "cells": [
  {
   "cell_type": "markdown",
   "id": "49372803-3537-42cb-ab79-d2352475c5fc",
   "metadata": {},
   "source": [
    "# Importing packages"
   ]
  },
  {
   "cell_type": "code",
   "execution_count": 1,
   "id": "e66e896e-1367-4e7b-8b2f-5322d4b59938",
   "metadata": {},
   "outputs": [],
   "source": [
    "import sys\n",
    "sys.path.append('/ibex/scratch/gasanoe/fedmix_on_fedjax/src/')"
   ]
  },
  {
   "cell_type": "code",
   "execution_count": 2,
   "id": "a5930b1a-0489-46ae-9bd8-1b5c1d0471bf",
   "metadata": {},
   "outputs": [],
   "source": [
    "from absl import app\n",
    "\n",
    "import fedjax\n",
    "from fedjax.core import tree_util\n",
    "\n",
    "import jax\n",
    "import jax.numpy as jnp\n",
    "import numpy as np\n",
    "\n",
    "import itertools\n",
    "import PLM\n",
    "import FedMix\n",
    "\n",
    "import time\n",
    "import pickle"
   ]
  },
  {
   "cell_type": "markdown",
   "id": "b323fa78-bef6-45df-abbb-c76152477af9",
   "metadata": {},
   "source": [
    "# Computing pure local models (PLM)"
   ]
  },
  {
   "cell_type": "code",
   "execution_count": 3,
   "id": "ee898c9e-5bd4-45aa-b5ed-bb0219edb772",
   "metadata": {},
   "outputs": [],
   "source": [
    "fedjax.set_for_each_client_backend('pmap')"
   ]
  },
  {
   "cell_type": "code",
   "execution_count": 4,
   "id": "db531897-a646-4418-994d-523f3fb5835b",
   "metadata": {},
   "outputs": [
    {
     "name": "stderr",
     "output_type": "stream",
     "text": [
      "Reusing cached file '/home/gasanoe/.cache/fedjax/federated_emnist_train.sqlite'\n",
      "Reusing cached file '/home/gasanoe/.cache/fedjax/federated_emnist_test.sqlite'\n"
     ]
    }
   ],
   "source": [
    "train_fd, test_fd = fedjax.datasets.emnist.load_data(only_digits=False)"
   ]
  },
  {
   "cell_type": "code",
   "execution_count": 5,
   "id": "7bf012b6-f3a3-4d74-8295-7833d0ee1788",
   "metadata": {},
   "outputs": [],
   "source": [
    "model = fedjax.models.emnist.create_conv_model(only_digits=False)"
   ]
  },
  {
   "cell_type": "code",
   "execution_count": 6,
   "id": "4c3921f1-8668-4e6c-b61d-095ee002b670",
   "metadata": {},
   "outputs": [],
   "source": [
    "def loss(params, batch, rng):\n",
    "    # `rng` used with `apply_for_train` to apply dropout during training.\n",
    "    preds = model.apply_for_train(params, batch, rng)\n",
    "    # Per example loss of shape [batch_size].\n",
    "    example_loss = model.train_loss(batch, preds)\n",
    "    return jnp.mean(example_loss)"
   ]
  },
  {
   "cell_type": "code",
   "execution_count": 7,
   "id": "c6c7b517-1263-4242-87d5-5e5eb3fd7862",
   "metadata": {},
   "outputs": [],
   "source": [
    "grad_fn = jax.jit(jax.grad(loss))"
   ]
  },
  {
   "cell_type": "code",
   "execution_count": 8,
   "id": "ef9d9c6a-fa24-441a-9a6d-c085cc1e9148",
   "metadata": {},
   "outputs": [],
   "source": [
    "def loss_for_eval(params, batch):\n",
    "    preds = model.apply_for_eval(params, batch)\n",
    "    example_loss = model.train_loss(batch, preds)\n",
    "    return jnp.mean(example_loss)    "
   ]
  },
  {
   "cell_type": "code",
   "execution_count": 9,
   "id": "75bbf2fe-5c11-4768-864c-8b78a0e46f26",
   "metadata": {},
   "outputs": [],
   "source": [
    "grad_fn_eval = jax.jit(jax.grad(loss_for_eval))"
   ]
  },
  {
   "cell_type": "code",
   "execution_count": 10,
   "id": "7af0bb9e-e231-48cc-a608-05232ed77628",
   "metadata": {},
   "outputs": [],
   "source": [
    "client_optimizer = fedjax.optimizers.sgd(learning_rate=10**(-1.5))\n",
    "# Hyperparameters for client local traing dataset preparation.\n",
    "client_batch_hparams = fedjax.ShuffleRepeatBatchHParams(batch_size=20, num_epochs=200, drop_remainder=True)\n",
    "\n",
    "algorithm = PLM.computing_plm(grad_fn, client_optimizer, client_batch_hparams)"
   ]
  },
  {
   "cell_type": "code",
   "execution_count": 11,
   "id": "8dc2b0b8-8143-49d3-8694-9587c781ca89",
   "metadata": {},
   "outputs": [],
   "source": [
    "# Initialize model parameters and algorithm server state.\n",
    "init_params = model.init(jax.random.PRNGKey(17))"
   ]
  },
  {
   "cell_type": "code",
   "execution_count": 12,
   "id": "2b1a3d0b-a735-4589-9e06-ba40f2338d70",
   "metadata": {},
   "outputs": [],
   "source": [
    "server_state = algorithm.init(init_params)"
   ]
  },
  {
   "cell_type": "code",
   "execution_count": 13,
   "id": "530b9da1-40e4-427f-a653-03bc5001c706",
   "metadata": {},
   "outputs": [],
   "source": [
    "rng = jax.random.PRNGKey(1)"
   ]
  },
  {
   "cell_type": "code",
   "execution_count": 14,
   "id": "2ef98971-db59-4649-81ae-3f7f1c7fa993",
   "metadata": {},
   "outputs": [],
   "source": [
    "save_file = '../results/PLM_emnist.pickle'"
   ]
  },
  {
   "cell_type": "code",
   "execution_count": null,
   "id": "d5142dd2-43e1-4218-8401-f17754f95652",
   "metadata": {},
   "outputs": [],
   "source": [
    "time_begin = time.time()\n",
    "rng = jax.random.PRNGKey(10)\n",
    "num_client = 0\n",
    "for client_id, cds in train_fd.clients():\n",
    "    rng, use_rng = jax.random.split(rng)\n",
    "    server_state, _ = algorithm.apply(server_state, [(client_id, cds, use_rng)])\n",
    "    num_client += 1\n",
    "    print('{} clients out of {} are processed.'.format(num_client, train_fd.num_clients()), end='\\r')\n",
    "    if num_client % 50 == 0:\n",
    "        with open(save_file, 'wb') as handle:\n",
    "            pickle.dump(server_state.PLM, handle, protocol=pickle.HIGHEST_PROTOCOL)\n",
    "print('Total time spent on the task = {}'.format(time.time() - time_begin))"
   ]
  },
  {
   "cell_type": "code",
   "execution_count": 15,
   "id": "4cf3f418-3268-4772-926f-7ecc8d93cafc",
   "metadata": {},
   "outputs": [],
   "source": [
    "with open(save_file, 'rb') as handle:\n",
    "    PLM_dict = pickle.load(handle)"
   ]
  },
  {
   "cell_type": "markdown",
   "id": "2ded1af4-16f4-41dc-b21e-79fb9c537bf7",
   "metadata": {},
   "source": [
    "# Statistics"
   ]
  },
  {
   "cell_type": "code",
   "execution_count": 16,
   "id": "d802a82a-86c6-4731-b391-38859f6c6926",
   "metadata": {},
   "outputs": [],
   "source": [
    "grads = []"
   ]
  },
  {
   "cell_type": "code",
   "execution_count": 17,
   "id": "23367055-9767-46ab-af52-f62053e4d193",
   "metadata": {},
   "outputs": [
    {
     "data": {
      "text/plain": [
       "[]"
      ]
     },
     "execution_count": 17,
     "metadata": {},
     "output_type": "execute_result"
    }
   ],
   "source": [
    "grads"
   ]
  },
  {
   "cell_type": "code",
   "execution_count": 19,
   "id": "fb501d1a-5b75-46a9-a8f3-bd6e9080ead9",
   "metadata": {},
   "outputs": [],
   "source": [
    "train_client_sampler = fedjax.client_samplers.UniformGetClientSampler(fd=train_fd, num_clients=8, seed=0)"
   ]
  },
  {
   "cell_type": "code",
   "execution_count": 20,
   "id": "f84fa758-a195-44a8-8664-c6d2c00a7394",
   "metadata": {},
   "outputs": [
    {
     "name": "stdout",
     "output_type": "stream",
     "text": [
      "Round 25 / 25\r"
     ]
    }
   ],
   "source": [
    "for round_num in range(1, 26):\n",
    "    clients = train_client_sampler.sample()\n",
    "    for client_id, cds, _ in clients:\n",
    "        grad_ = grad_fn_eval(PLM_dict[client_id], train_fd.get_client(client_id).all_examples())\n",
    "        grads.append(tree_util.tree_l2_norm(grad_))\n",
    "    print('Round {} / {}'.format(round_num, 25), end='\\r')"
   ]
  },
  {
   "cell_type": "code",
   "execution_count": 23,
   "id": "bfd6b139-6420-48be-8d0f-77dd9eff1a6c",
   "metadata": {},
   "outputs": [],
   "source": [
    "from matplotlib import pyplot as plt"
   ]
  },
  {
   "cell_type": "code",
   "execution_count": 25,
   "id": "c9653ca5-6117-444c-97f5-3630bf6f0eb3",
   "metadata": {},
   "outputs": [],
   "source": [
    "grad_ex = grads[0]"
   ]
  },
  {
   "cell_type": "code",
   "execution_count": 27,
   "id": "12e5abd8-5794-4815-b205-900ac491971e",
   "metadata": {},
   "outputs": [],
   "source": [
    "grads_np = np.array(grads)"
   ]
  },
  {
   "cell_type": "code",
   "execution_count": 31,
   "id": "aee34247-3400-475e-abfe-e199bc32053b",
   "metadata": {},
   "outputs": [
    {
     "data": {
      "text/plain": [
       "(array([ 4.,  5.,  5.,  8.,  7.,  5.,  7.,  8., 11., 17.,  9., 12., 15.,\n",
       "        23., 15., 18., 14., 12.,  2.,  3.]),\n",
       " array([-2.7654657 , -2.641248  , -2.5170305 , -2.3928127 , -2.268595  ,\n",
       "        -2.1443775 , -2.0201597 , -1.8959421 , -1.7717245 , -1.6475068 ,\n",
       "        -1.5232891 , -1.3990715 , -1.2748538 , -1.1506362 , -1.0264184 ,\n",
       "        -0.9022008 , -0.7779832 , -0.6537655 , -0.52954787, -0.40533018,\n",
       "        -0.28111252], dtype=float32),\n",
       " <BarContainer object of 20 artists>)"
      ]
     },
     "execution_count": 31,
     "metadata": {},
     "output_type": "execute_result"
    },
    {
     "data": {
      "image/png": "[encoded data removed]",
      "text/plain": [
       "<Figure size 432x288 with 1 Axes>"
      ]
     },
     "metadata": {
      "needs_background": "light"
     },
     "output_type": "display_data"
    }
   ],
   "source": [
    "plt.hist(np.log10(grads_np), bins=20)"
   ]
  },
  {
   "cell_type": "code",
   "execution_count": null,
   "id": "287d1116-42bf-435f-8909-c001403a9237",
   "metadata": {},
   "outputs": [],
   "source": []
  }
 ],
 "metadata": {
  "kernelspec": {
   "display_name": "Python 3 (ipykernel)",
   "language": "python",
   "name": "python3"
  },
  "language_info": {
   "codemirror_mode": {
    "name": "ipython",
    "version": 3
   },
   "file_extension": ".py",
   "mimetype": "text/x-python",
   "name": "python",
   "nbconvert_exporter": "python",
   "pygments_lexer": "ipython3",
   "version": "3.8.12"
  }
 },
 "nbformat": 4,
 "nbformat_minor": 5
}
